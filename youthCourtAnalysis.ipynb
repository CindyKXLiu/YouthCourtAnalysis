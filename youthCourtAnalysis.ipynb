{
  "nbformat": 4,
  "nbformat_minor": 0,
  "metadata": {
    "colab": {
      "name": "youthCourtAnalysis.ipynb",
      "provenance": [],
      "mount_file_id": "1AwCdrtGqSTmFO3IoNwDLW3id3OM2Nra0",
      "authorship_tag": "ABX9TyPYc19ccaVMicAFqhNnY3+j",
      "include_colab_link": true
    },
    "kernelspec": {
      "name": "python3",
      "display_name": "Python 3"
    }
  },
  "cells": [
    {
      "cell_type": "markdown",
      "metadata": {
        "id": "view-in-github",
        "colab_type": "text"
      },
      "source": [
        "<a href=\"https://colab.research.google.com/github/CindyKXLiu/YouthCourtAnalysis/blob/master/youthCourtAnalysis.ipynb\" target=\"_parent\"><img src=\"https://colab.research.google.com/assets/colab-badge.svg\" alt=\"Open In Colab\"/></a>"
      ]
    },
    {
      "cell_type": "code",
      "metadata": {
        "id": "VrS8oOnRw2gW",
        "colab_type": "code",
        "outputId": "eee074e2-568e-482a-e038-3f7afd9b985b",
        "colab": {
          "base_uri": "https://localhost:8080/",
          "height": 54
        }
      },
      "source": [
        "from google.colab import drive\n",
        "drive.mount('/content/drive')"
      ],
      "execution_count": 1,
      "outputs": [
        {
          "output_type": "stream",
          "text": [
            "Drive already mounted at /content/drive; to attempt to forcibly remount, call drive.mount(\"/content/drive\", force_remount=True).\n"
          ],
          "name": "stdout"
        }
      ]
    },
    {
      "cell_type": "code",
      "metadata": {
        "id": "xtubHdKDxh3E",
        "colab_type": "code",
        "colab": {}
      },
      "source": [
        "import pandas as pd\n",
        "\n",
        "#The use_cols are chosen through inspecting the file in Excel and was nessary due to file size\n",
        "use_cols = ['REF_DATE', 'GEO', 'Offences', 'Age of accused', 'Sex of accused', 'Charge and case', 'Type of decision']\n",
        "df= pd.read_csv(\"/content/drive/My Drive/Dataset/youthCrimeData.csv\", usecols=use_cols, engine='python',  encoding='utf-8', error_bad_lines=False)\n"
      ],
      "execution_count": 0,
      "outputs": []
    },
    {
      "cell_type": "code",
      "metadata": {
        "id": "3tV9uQfoyt3f",
        "colab_type": "code",
        "colab": {
          "base_uri": "https://localhost:8080/",
          "height": 323
        },
        "outputId": "253c2b19-bd4c-4193-de18-10f823c90992"
      },
      "source": [
        "print(df.shape)\n",
        "df.head()"
      ],
      "execution_count": 5,
      "outputs": [
        {
          "output_type": "stream",
          "text": [
            "(8848000, 7)\n"
          ],
          "name": "stdout"
        },
        {
          "output_type": "execute_result",
          "data": {
            "text/html": [
              "<div>\n",
              "<style scoped>\n",
              "    .dataframe tbody tr th:only-of-type {\n",
              "        vertical-align: middle;\n",
              "    }\n",
              "\n",
              "    .dataframe tbody tr th {\n",
              "        vertical-align: top;\n",
              "    }\n",
              "\n",
              "    .dataframe thead th {\n",
              "        text-align: right;\n",
              "    }\n",
              "</style>\n",
              "<table border=\"1\" class=\"dataframe\">\n",
              "  <thead>\n",
              "    <tr style=\"text-align: right;\">\n",
              "      <th></th>\n",
              "      <th>REF_DATE</th>\n",
              "      <th>GEO</th>\n",
              "      <th>Offences</th>\n",
              "      <th>Age of accused</th>\n",
              "      <th>Sex of accused</th>\n",
              "      <th>Charge and case</th>\n",
              "      <th>Type of decision</th>\n",
              "    </tr>\n",
              "  </thead>\n",
              "  <tbody>\n",
              "    <tr>\n",
              "      <th>0</th>\n",
              "      <td>1991/1992</td>\n",
              "      <td>Canada</td>\n",
              "      <td>Total offences</td>\n",
              "      <td>Total, age of accused</td>\n",
              "      <td>Total, sex of accused</td>\n",
              "      <td>Total charges</td>\n",
              "      <td>Total decisions</td>\n",
              "    </tr>\n",
              "    <tr>\n",
              "      <th>1</th>\n",
              "      <td>1991/1992</td>\n",
              "      <td>Canada</td>\n",
              "      <td>Total offences</td>\n",
              "      <td>Total, age of accused</td>\n",
              "      <td>Total, sex of accused</td>\n",
              "      <td>Total charges</td>\n",
              "      <td>Transferred to adult court</td>\n",
              "    </tr>\n",
              "    <tr>\n",
              "      <th>2</th>\n",
              "      <td>1991/1992</td>\n",
              "      <td>Canada</td>\n",
              "      <td>Total offences</td>\n",
              "      <td>Total, age of accused</td>\n",
              "      <td>Total, sex of accused</td>\n",
              "      <td>Total charges</td>\n",
              "      <td>Guilty</td>\n",
              "    </tr>\n",
              "    <tr>\n",
              "      <th>3</th>\n",
              "      <td>1991/1992</td>\n",
              "      <td>Canada</td>\n",
              "      <td>Total offences</td>\n",
              "      <td>Total, age of accused</td>\n",
              "      <td>Total, sex of accused</td>\n",
              "      <td>Total charges</td>\n",
              "      <td>Percentage guilty</td>\n",
              "    </tr>\n",
              "    <tr>\n",
              "      <th>4</th>\n",
              "      <td>1991/1992</td>\n",
              "      <td>Canada</td>\n",
              "      <td>Total offences</td>\n",
              "      <td>Total, age of accused</td>\n",
              "      <td>Total, sex of accused</td>\n",
              "      <td>Total charges</td>\n",
              "      <td>Acquitted</td>\n",
              "    </tr>\n",
              "  </tbody>\n",
              "</table>\n",
              "</div>"
            ],
            "text/plain": [
              "    REF_DATE     GEO  ... Charge and case            Type of decision\n",
              "0  1991/1992  Canada  ...   Total charges             Total decisions\n",
              "1  1991/1992  Canada  ...   Total charges  Transferred to adult court\n",
              "2  1991/1992  Canada  ...   Total charges                      Guilty\n",
              "3  1991/1992  Canada  ...   Total charges           Percentage guilty\n",
              "4  1991/1992  Canada  ...   Total charges                   Acquitted\n",
              "\n",
              "[5 rows x 7 columns]"
            ]
          },
          "metadata": {
            "tags": []
          },
          "execution_count": 5
        }
      ]
    },
    {
      "cell_type": "code",
      "metadata": {
        "id": "66C3MDTJ4jkm",
        "colab_type": "code",
        "colab": {
          "base_uri": "https://localhost:8080/",
          "height": 68
        },
        "outputId": "c0f02c04-06d7-4eef-83b9-25c537080472"
      },
      "source": [
        "print(df.columns)"
      ],
      "execution_count": 7,
      "outputs": [
        {
          "output_type": "stream",
          "text": [
            "Index(['REF_DATE', 'GEO', 'Offences', 'Age of accused', 'Sex of accused',\n",
            "       'Charge and case', 'Type of decision'],\n",
            "      dtype='object')\n"
          ],
          "name": "stdout"
        }
      ]
    },
    {
      "cell_type": "code",
      "metadata": {
        "id": "-cELi3SruuMD",
        "colab_type": "code",
        "colab": {
          "base_uri": "https://localhost:8080/",
          "height": 153
        },
        "outputId": "2b1100db-acb0-48bc-db75-5481f217a342"
      },
      "source": [
        "df.isnull().sum()"
      ],
      "execution_count": 8,
      "outputs": [
        {
          "output_type": "execute_result",
          "data": {
            "text/plain": [
              "REF_DATE            0\n",
              "GEO                 0\n",
              "Offences            0\n",
              "Age of accused      0\n",
              "Sex of accused      0\n",
              "Charge and case     0\n",
              "Type of decision    0\n",
              "dtype: int64"
            ]
          },
          "metadata": {
            "tags": []
          },
          "execution_count": 8
        }
      ]
    },
    {
      "cell_type": "code",
      "metadata": {
        "id": "cx0_fY5TvJie",
        "colab_type": "code",
        "colab": {
          "base_uri": "https://localhost:8080/",
          "height": 1000
        },
        "outputId": "c9d23158-a9da-4fe5-b850-6345d089bf5d"
      },
      "source": [
        "def get_col_unique_count(col):\n",
        "  #my_sum = 0;\n",
        "  print(\"Col: \" + col)\n",
        "  entries = df[col].unique()\n",
        "  for entry in entries:\n",
        "    print(entry + \": \" + str((df[col] == entry).sum()))\n",
        "    #my_sum = my_sum + (df[col] == entry).sum()\n",
        "  #print(\"sum: \" + str(my_sum))\n",
        "  print(\"\")\n",
        "\n",
        "for col in df.columns:\n",
        "  get_col_unique_count(col)"
      ],
      "execution_count": 23,
      "outputs": [
        {
          "output_type": "stream",
          "text": [
            "Col: REF_DATE\n",
            "1991/1992: 273000\n",
            "1992/1993: 273000\n",
            "1993/1994: 273000\n",
            "1994/1995: 273000\n",
            "1995/1996: 273000\n",
            "1996/1997: 273000\n",
            "1997/1998: 273000\n",
            "1998/1999: 273000\n",
            "1999/2000: 302400\n",
            "2000/2001: 316400\n",
            "2001/2002: 316400\n",
            "2002/2003: 322000\n",
            "2003/2004: 322000\n",
            "2004/2005: 350000\n",
            "2005/2006: 350000\n",
            "2006/2007: 355600\n",
            "2007/2008: 355600\n",
            "2008/2009: 355600\n",
            "2009/2010: 361200\n",
            "2010/2011: 372400\n",
            "2011/2012: 372400\n",
            "2012/2013: 372400\n",
            "2013/2014: 372400\n",
            "2014/2015: 372400\n",
            "2015/2016: 372400\n",
            "2016/2017: 361200\n",
            "2017/2018: 361200\n",
            "sum: 8848000\n",
            "\n",
            "Col: GEO\n",
            "Canada: 673400\n",
            "Newfoundland and Labrador: 634200\n",
            "Prince Edward Island: 645400\n",
            "Nova Scotia: 673400\n",
            "New Brunswick: 667800\n",
            "Quebec: 645400\n",
            "Ontario: 645400\n",
            "Manitoba: 645400\n",
            "Saskatchewan: 617400\n",
            "Alberta: 600600\n",
            "British Columbia: 667800\n",
            "Yukon: 600600\n",
            "Northwest Territories including Nunavut: 168000\n",
            "Northwest Territories: 477400\n",
            "Nunavut: 485800\n",
            "sum: 8848000\n",
            "\n",
            "Col: Offences\n",
            "Total offences: 221200\n",
            "Total Criminal Code: 221200\n",
            "Criminal Code (without traffic): 221200\n",
            "Crimes against the person: 221200\n",
            "Homicide: 221200\n",
            "Attempted murder: 221200\n",
            "Robbery: 221200\n",
            "Sexual assault: 221200\n",
            "Other sexual offences: 221200\n",
            "Major assault: 221200\n",
            "Common assault: 221200\n",
            "Uttering threats: 221200\n",
            "Criminal harassment: 221200\n",
            "Other crimes against persons: 221200\n",
            "Crimes against property: 221200\n",
            "Theft: 221200\n",
            "Break and enter: 221200\n",
            "Fraud: 221200\n",
            "Mischief: 221200\n",
            "Possess stolen property: 221200\n",
            "Other property crimes: 221200\n",
            "Administration of justice: 221200\n",
            "Fail to appear: 221200\n",
            "Breach of probation: 221200\n",
            "Unlawfully at large: 221200\n",
            "Fail to comply with order: 221200\n",
            "Other administration of justice: 221200\n",
            "Other Criminal Code: 221200\n",
            "Weapons: 221200\n",
            "Prostitution: 221200\n",
            "Disturbing the peace: 221200\n",
            "Residual Criminal Code: 221200\n",
            "Criminal Code traffic: 221200\n",
            "Impaired driving: 221200\n",
            "Other Criminal Code traffic: 221200\n",
            "Other federal statutes: 221200\n",
            "Drug possession: 221200\n",
            "Other drug offences: 221200\n",
            "Youth Criminal Justice Act: 221200\n",
            "Residual federal statutes: 221200\n",
            "sum: 8848000\n",
            "\n",
            "Col: Age of accused\n",
            "Total, age of accused: 2340800\n",
            "12 to 15 years: 1824200\n",
            "16 and 17 years: 1824200\n",
            "Other ages: 1824200\n",
            "Age not applicable: 1034600\n",
            "sum: 8848000\n",
            "\n",
            "Col: Sex of accused\n",
            "Total, sex of accused: 2590000\n",
            "Males: 2072000\n",
            "Females: 2072000\n",
            "Company: 1033200\n",
            "Sex unknown: 1080800\n",
            "sum: 8848000\n",
            "\n",
            "Col: Charge and case\n",
            "Total charges: 1769600\n",
            "Total cases: 1769600\n",
            "Single-charge cases: 1769600\n",
            "Multiple-charge cases: 1769600\n",
            "Related charges: 1769600\n",
            "sum: 8848000\n",
            "\n",
            "Col: Type of decision\n",
            "Total decisions: 1264000\n",
            "Transferred to adult court: 1264000\n",
            "Guilty: 1264000\n",
            "Percentage guilty: 1264000\n",
            "Acquitted: 1264000\n",
            "Stayed or withdrawn: 1264000\n",
            "Other decisions: 1264000\n",
            "sum: 8848000\n",
            "\n"
          ],
          "name": "stdout"
        }
      ]
    },
    {
      "cell_type": "markdown",
      "metadata": {
        "id": "vXXup44D-jy_",
        "colab_type": "text"
      },
      "source": [
        "Observation from above:\n",
        "\n",
        "\n",
        "*  The sum of each type of offecces is 221200\n",
        "*  The sum of each type of charge and \n",
        "case is 1769600\n",
        "*   The sum of each type of decision is 1264000\n",
        "\n",
        "Further analysis needed to determine if this intentional or coincidental. In addition, there are so overlapping in GEO column for the Northwest Territories.\n",
        "\n"
      ]
    },
    {
      "cell_type": "markdown",
      "metadata": {
        "id": "dM6R-GEIEeQW",
        "colab_type": "text"
      },
      "source": [
        "**Cleaning GEO column.**\n",
        "\n",
        "*Assumptions* \n",
        "\n",
        "*   the crime rate for each province is equal\n",
        "*   the ratio of population in each province (i.e. pop Ontatio/ pop Canada) did not change through time\n",
        "* the data is already randomly distributed by year\n",
        "\n",
        "Row with Canada entry will be randomly distributed to other provinces using currunt population ratio. Same is done for entries Northwest Territories including Nunavut.\n"
      ]
    },
    {
      "cell_type": "code",
      "metadata": {
        "id": "8-258v7pBH3b",
        "colab_type": "code",
        "colab": {}
      },
      "source": [
        "for yr in df.REF_DATE:\n",
        "  df_CAN = [df.GEO == 'Canada' && df.REF_DATE == yr].index\n",
        "  "
      ],
      "execution_count": 0,
      "outputs": []
    },
    {
      "cell_type": "code",
      "metadata": {
        "id": "CGa60M32D7sD",
        "colab_type": "code",
        "colab": {}
      },
      "source": [
        "\n",
        "df.drop(df[df.Offences == 'Total offences' || df.Offences == 'Total Criminal Code'].index)\n",
        "df.drop(df[df['Age of accused'] == 'Total, age of accused' || df['Age of accused'] == 'Age not applicable'].index)\n",
        "df.drop(df[df['Sex of accused'] == 'Total, sex of accused'].index)\n",
        "df.drop(df[df['Charge and case'] == 'Total charges' || df['Charge and case'] == 'Total cases'].index)"
      ],
      "execution_count": 0,
      "outputs": []
    },
    {
      "cell_type": "markdown",
      "metadata": {
        "id": "fs4an9JQ1iUI",
        "colab_type": "text"
      },
      "source": [
        "\n",
        "**First Analysis**\n",
        "---\n",
        "\n",
        "\n",
        "First I want to plot the youth crime rate by province against time. From inspecting the first 20 elements in the table below I noticed that there are some entries with their GEO being Canada, which would be problematic for plotting."
      ]
    },
    {
      "cell_type": "code",
      "metadata": {
        "id": "hoZh281YzpYY",
        "colab_type": "code",
        "colab": {}
      },
      "source": [
        "df.head(20)"
      ],
      "execution_count": 0,
      "outputs": []
    },
    {
      "cell_type": "markdown",
      "metadata": {
        "id": "F81HjyUc2Fsw",
        "colab_type": "text"
      },
      "source": [
        "To solve that problem. I wanted to first find out how many entries have Canada as their GEO. From below we see that only about 8.5 % of the entries are like that. Since it is a relatively large dataset dropping these entries would minimally impact the result."
      ]
    },
    {
      "cell_type": "code",
      "metadata": {
        "id": "4rZ9sGmhzvrY",
        "colab_type": "code",
        "colab": {}
      },
      "source": [
        "df.GEO.unique()\n",
        "(df.GEO == 'Canada').sum()\n",
        "print ((df.GEO == 'Canada').sum() / df.shape[0])"
      ],
      "execution_count": 0,
      "outputs": []
    }
  ]
}